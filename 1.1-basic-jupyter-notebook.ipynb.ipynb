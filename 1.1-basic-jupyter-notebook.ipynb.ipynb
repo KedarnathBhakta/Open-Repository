{
 "cells": [
  {
   "cell_type": "markdown",
   "metadata": {},
   "source": [
    "# Welcome to JupyterLab\n",
    "\n",
    "In this activity, you will get hands-on experience with the basics of JupyterLab. By the end of this notebook, you will be able to:\n",
    "\n",
    "1. Create and run code cells.\n",
    "2. Use Markdown cells for adding text.\n",
    "3. Explore JupyterLab's interface and shortcuts.\n",
    "4. Save and export your notebooks.\n",
    "\n",
    "Let’s get started!\n"
   ]
  },
  {
   "cell_type": "markdown",
   "metadata": {},
   "source": [
    "## 1. Running Code in JupyterLab\n",
    "JupyterLab allows you to write and execute Python code interactively. Code cells are the building blocks of notebooks.\n",
    "\n",
    "### Activity\n",
    "Run the Python code below by selecting the cell and pressing **Shift + Enter** (or clicking the Run button in the toolbar)."
   ]
  },
  {
   "cell_type": "code",
   "execution_count": 1,
   "metadata": {},
   "outputs": [
    {
     "name": "stdout",
     "output_type": "stream",
     "text": [
      "Hello,Kedarnath\n"
     ]
    }
   ],
   "source": [
    "# This is a Python code cell\n",
    "print('Hello,Kedarnath')"
   ]
  },
  {
   "cell_type": "code",
   "execution_count": null,
   "metadata": {},
   "outputs": [],
   "source": []
  }
 ],
 "metadata": {
  "kernelspec": {
   "display_name": "Python 3 (ipykernel)",
   "language": "python",
   "name": "python3"
  },
  "language_info": {
   "codemirror_mode": {
    "name": "ipython",
    "version": 3
   },
   "file_extension": ".py",
   "mimetype": "text/x-python",
   "name": "python",
   "nbconvert_exporter": "python",
   "pygments_lexer": "ipython3",
   "version": "3.12.1"
  }
 },
 "nbformat": 4,
 "nbformat_minor": 2
}
